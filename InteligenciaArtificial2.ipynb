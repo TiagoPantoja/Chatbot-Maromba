{
  "cells": [
    {
      "cell_type": "code",
      "execution_count": 3,
      "metadata": {
        "colab": {
          "base_uri": "https://localhost:8080/"
        },
        "id": "khy5YAmBzL89",
        "outputId": "ba2e42e1-8ac7-4e42-9bb5-89266fb6e330"
      },
      "outputs": [
        {
          "output_type": "stream",
          "name": "stdout",
          "text": [
            "Collecting fuzzywuzzy\n",
            "  Downloading fuzzywuzzy-0.18.0-py2.py3-none-any.whl (18 kB)\n",
            "Installing collected packages: fuzzywuzzy\n",
            "Successfully installed fuzzywuzzy-0.18.0\n"
          ]
        }
      ],
      "source": [
        "pip install fuzzywuzzy"
      ]
    },
    {
      "cell_type": "code",
      "execution_count": null,
      "metadata": {
        "colab": {
          "base_uri": "https://localhost:8080/"
        },
        "id": "joxdjchmzXZi",
        "outputId": "61b14bbd-bbe5-46be-935e-1db8e47d4957"
      },
      "outputs": [
        {
          "output_type": "stream",
          "name": "stderr",
          "text": [
            "/usr/local/lib/python3.10/dist-packages/fuzzywuzzy/fuzz.py:11: UserWarning: Using slow pure-python SequenceMatcher. Install python-Levenshtein to remove this warning\n",
            "  warnings.warn('Using slow pure-python SequenceMatcher. Install python-Levenshtein to remove this warning')\n"
          ]
        },
        {
          "output_type": "stream",
          "name": "stdout",
          "text": [
            "\n",
            "Olá, eu sou o chatbot Maromba. Como posso ajudar você hoje?\n",
            "Faça uma pergunta sobre a Academia YouFit ou digite 'parar' para encerrar a interação.\n",
            "1. Onde está localizada a academia?\n",
            "2. Quais professores estão disponíveis?\n",
            "3. Quais aulas são oferecidas?\n",
            "4. Quais são os exercícios recomendados para perda de peso e hipertrofia muscular?\n",
            "5. Qual dieta é adequada para ganho de massa muscular e perda de gordura corporal?6. A academia é para todos?\n",
            "Usuário, faça uma pergunta sobre a academia ou digite 'parar' para encerrar:\n",
            "Você também pode digitar o número correspondente à pergunta de 1 a 5.\n"
          ]
        }
      ],
      "source": [
        "import time\n",
        "import random\n",
        "from fuzzywuzzy import process\n",
        "\n",
        "class AcademiaChatbot:\n",
        "    def __init__(self):\n",
        "        self.base_conhecimento = {}\n",
        "        self.menu = (\n",
        "            \"Olá, eu sou o chatbot Maromba. Como posso ajudar você hoje?\\n\"\n",
        "            \"Faça uma pergunta sobre a Academia YouFit ou digite 'parar' para encerrar a interação.\\n\"\n",
        "            \"1. Onde está localizada a academia?\\n\"\n",
        "            \"2. Quais professores estão disponíveis?\\n\"\n",
        "            \"3. Quais aulas são oferecidas?\\n\"\n",
        "            \"4. Quais são os exercícios recomendados para perda de peso e hipertrofia muscular?\\n\"\n",
        "            \"5. Qual dieta é adequada para ganho de massa muscular e perda de gordura corporal?\"\n",
        "            \"6. A academia é para todos?\"\n",
        "        )\n",
        "\n",
        "        self.opcoes_perguntas = {\n",
        "            '1': \"Onde está localizada a academia?\",\n",
        "            '2': \"Quais professores estão disponíveis?\",\n",
        "            '3': \"Quais aulas são oferecidas?\",\n",
        "            '4': \"Quais são os exercícios recomendados para perda de peso e hipertrofia muscular?\",\n",
        "            '5': \"Qual dieta é adequada para ganho de massa muscular e perda de gordura corporal?\",\n",
        "            '6': \"A academia é para todos?\"\n",
        "        }\n",
        "\n",
        "        self.gatilho = \"academia\"\n",
        "        self.interacao_ativa = False\n",
        "\n",
        "    def adicionar_regra(self, pergunta, resposta):\n",
        "        self.base_conhecimento[pergunta] = resposta\n",
        "\n",
        "    def inserir_variavel(self, variavel, valor):\n",
        "        self.base_conhecimento[variavel] = valor\n",
        "\n",
        "    def processar_variaveis(self, pergunta):\n",
        "        for variavel, valor in self.base_conhecimento.items():\n",
        "            pergunta = pergunta.replace(f\"{{{variavel}}}\", valor)\n",
        "        return pergunta\n",
        "\n",
        "    def pontuacao_fuzzy(self, pergunta_usuario, pergunta_base):\n",
        "        return process.extractOne(pergunta_usuario.lower(), [pergunta_base.lower()])[1]\n",
        "\n",
        "    def exibir_menu(self):\n",
        "        print(\"\\n\" + self.menu)\n",
        "        print(\"Usuário, faça uma pergunta sobre a academia ou digite 'parar' para encerrar:\")\n",
        "        print(\"Você também pode digitar o número correspondente à pergunta de 1 a 5.\")\n",
        "\n",
        "    def interagir(self, pergunta_usuario):\n",
        "        pergunta_usuario = pergunta_usuario.lower()\n",
        "\n",
        "        if pergunta_usuario.isdigit() and pergunta_usuario in self.opcoes_perguntas:\n",
        "            pergunta_usuario = self.opcoes_perguntas[pergunta_usuario]\n",
        "\n",
        "        melhor_pergunta = max(self.base_conhecimento.keys(), key=lambda x: self.pontuacao_fuzzy(pergunta_usuario, x))\n",
        "        pontuacao = self.pontuacao_fuzzy(pergunta_usuario, melhor_pergunta)\n",
        "\n",
        "        if pontuacao >= 60:\n",
        "            return self.base_conhecimento[melhor_pergunta]\n",
        "        elif 'professor de yoga' in pergunta_usuario:\n",
        "            return \"Não, a academia YouFit possui apenas professores e treinadores certificados em musculação, pilates, nutrição e fisioterapia.\"\n",
        "        elif 'aula de spinning' in pergunta_usuario:\n",
        "            return \"Não, a academia YouFit possui apenas aulas de Zumba, Pilates, Musculação, CrossFit e Yoga.\"\n",
        "        elif 'unidade' in pergunta_usuario:\n",
        "            return \"Não, a academia YouFit possui três unidades: shoppings Pátio Belém, Boulevard, e uma unidade na Marambaia.\"\n",
        "        else:\n",
        "            return \"O chatbot Maromba não possui informações sobre esse assunto.\"\n",
        "\n",
        "    def interacao_dinamica(self):\n",
        "        while True:\n",
        "            self.exibir_menu()\n",
        "            if not self.interacao_ativa:\n",
        "                pergunta_usuario = input()\n",
        "            else:\n",
        "                resposta_proativa = input(\"Você parece interessado na academia. Posso ajudar com mais alguma coisa? Digite 'sim' ou 'não': \")\n",
        "\n",
        "                if resposta_proativa.lower() == 'não':\n",
        "                    self.interacao_ativa = False\n",
        "                    continue\n",
        "                elif resposta_proativa.lower() == 'sim':\n",
        "                    self.interacao_proativa()\n",
        "\n",
        "                pergunta_usuario = input(\"Faça outra pergunta sobre a academia ou digite o número correspondente à pergunta de 1 a 5: \")\n",
        "                if pergunta_usuario.isdigit() and pergunta_usuario in self.opcoes_perguntas:\n",
        "                    pergunta_usuario = self.opcoes_perguntas[pergunta_usuario]\n",
        "                else:\n",
        "                    print(\"Número de pergunta inválido. Por favor, escolha um número de 1 a 5.\")\n",
        "                    continue\n",
        "\n",
        "            if pergunta_usuario.lower() == 'parar':\n",
        "                print(\"Encerrando a interação com o chatbot Maromba\\n\")\n",
        "                break\n",
        "\n",
        "            resposta = self.interagir(pergunta_usuario)\n",
        "\n",
        "            if 'dieta' in pergunta_usuario and 'exercícios' not in pergunta_usuario:\n",
        "                print(\"\\nChatbot: Uma dieta rica em proteínas, incluindo frango, peixe, ovos, e carboidratos complexos como batata-doce e arroz integral.\")\n",
        "                reposicionamento = input(\"Chatbot: Uma dieta balanceada é essencial para alcançar seus objetivos fitness. Além disso, os exercícios também desempenham um papel crucial. Posso fornecer informações sobre exercícios recomendados? (Digite 'sim' ou 'não')\\nUsuário, o que você acha? \")\n",
        "\n",
        "                if reposicionamento.lower() == 'sim':\n",
        "                    pergunta_usuario = \"Quais são os exercícios recomendados para perda de peso?\"\n",
        "                    resposta = self.interagir(pergunta_usuario)\n",
        "\n",
        "            print(\"\\nChatbot:\", resposta)\n",
        "\n",
        "            if 'youtube' in resposta.lower():\n",
        "                print(\"Chatbot Maromba: Além disso, veja este vídeo interessante: \")\n",
        "                print(\"https://www.youtube.com/watch?v=No6n6r5INkU\")\n",
        "\n",
        "            if self.gatilho in pergunta_usuario:\n",
        "                self.interacao_proativa()\n",
        "\n",
        "    def interacao_proativa(self):\n",
        "        if not self.interacao_ativa:\n",
        "            print(\"\\nChatbot Maromba: Parece que você está interessado na academia YouFit. Posso ajudar com informações adicionais?\")\n",
        "            self.interacao_ativa = True\n",
        "            time.sleep(2)\n",
        "\n",
        "            print(\"\\nChatbot Maromba: Sabia que exercícios regulares podem melhorar sua saúde geral? \"\n",
        "                  \"Além disso, oferecemos programas personalizados para atender às suas necessidades. \"\n",
        "                  \"Posso fornecer mais detalhes se quiser!\")\n",
        "\n",
        "if __name__ == \"__main__\":\n",
        "    chatbot = AcademiaChatbot()\n",
        "\n",
        "    chatbot.adicionar_regra(\"Onde está localizada a academia?\", \"A academia YouFit tem unidades nos shoppings Pátio Belém, Boulevard, e uma unidade na Marambaia\")\n",
        "    chatbot.adicionar_regra(\"Quais professores estão disponíveis?\", \"Temos professores e treinadores certificados em musculação, pilates, nutrição e fisioterapia\")\n",
        "    chatbot.adicionar_regra(\"Quais aulas são oferecidas?\", \"Oferecemos aulas de Zumba, Pilates, Musculação, CrossFit e Yoga\")\n",
        "    chatbot.adicionar_regra(\"Quais são os exercícios recomendados para perda de peso?\", \"Recomendamos exercícios aeróbicos como corrida, além de treinos de alta intensidade como o CrossFit. Veja um exemplo neste vídeo do YouTube: https://www.youtube.com/watch?v=45IztThL63s\")\n",
        "    chatbot.adicionar_regra(\"Quais são os exercícios recomendados para hipertrofia muscular?\", \"Para hipertrofia muscular, recomendamos focar em exercícios compostos, como supino, agachamento, levantamento terra, desenvolvimento militar e pull-ups. Esses exercícios visam trabalhar diferentes grupos musculares, promovendo o crescimento muscular.\")\n",
        "    chatbot.adicionar_regra(\"Qual dieta é adequada para ganho de massa muscular?\", \"Uma dieta rica em proteínas, incluindo frango, peixe, ovos, e carboidratos complexos como batata-doce e arroz integral\")\n",
        "    chatbot.adicionar_regra(\"Qual dieta é adequada para perder gordura?\", \"Para perder gordura, recomendamos uma dieta balanceada com foco em alimentos saudáveis. Inclua alimentos ricos em fibras, como vegetais, frutas, grãos integrais, e evite alimentos processados e ricos em açúcares. Consuma proteínas magras, como peito de frango e peixe, e escolha fontes saudáveis de gordura, como abacate e azeite de oliva. Lembre-se de manter a hidratação adequada e praticar atividade física regularmente.\")\n",
        "    chatbot.adicionar_regra(\"A academia é para todos?\", \"Sim, a academia é para todos\")\n",
        "\n",
        "    chatbot.interacao_dinamica()"
      ]
    }
  ],
  "metadata": {
    "colab": {
      "provenance": []
    },
    "kernelspec": {
      "display_name": "Python 3",
      "name": "python3"
    },
    "language_info": {
      "name": "python"
    }
  },
  "nbformat": 4,
  "nbformat_minor": 0
}